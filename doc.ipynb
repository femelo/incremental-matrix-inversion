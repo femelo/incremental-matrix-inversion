{
 "cells": [
  {
   "cell_type": "markdown",
   "metadata": {
    "vscode": {
     "languageId": "latex"
    }
   },
   "source": [
    "\\begin{align*}\n",
    "\\mathrm{K} \\mathrm{x} & = \\mathrm{y}, \\\\\n",
    "\\mathrm{x} & = \\mathrm{H}^{-1} \\mathrm{K}^{T} \\mathrm{y},\n",
    "\\end{align*}\n",
    "\n",
    "where $\\mathrm{H} = \\mathrm{K}^{T} \\mathrm{K}$."
   ]
  },
  {
   "cell_type": "markdown",
   "metadata": {},
   "source": [
    "\\begin{align*}\n",
    "\\mathrm{x} & = \\mathrm{H}^{-1} \\begin{pmatrix}\\mathrm{K}_{1}^{T} & \\mathrm{K}_{2}^{T}\\end{pmatrix} \\begin{pmatrix}\\mathrm{y}_{1} \\\\ \\mathrm{y}_{2}\\end{pmatrix}, \\\\\n",
    "\\mathrm{x} & = \\mathrm{H}^{-1} (\\mathrm{K}_{1}^{T} \\mathrm{y}_{1} + \\mathrm{K}_{2}^{T} \\mathrm{y}_{2}).\n",
    "\\end{align*}"
   ]
  },
  {
   "cell_type": "markdown",
   "metadata": {},
   "source": [
    "\\begin{equation*}\n",
    "\\mathrm{H}^{-1} = \\mathrm{H}_{1}^{-1} - \\mathrm{H}_{1}^{-1} (\\mathbb{I} - \\mathrm{H}_{2}^{\\vphantom{1}}\\mathrm{H}_{1}^{-1})^{-1} \\mathrm{H}_{2}^{\\vphantom{1}}\\mathrm{H}_{1}^{-1}.\n",
    "\\end{equation*}\n",
    "\n",
    "For $\\mathrm{H}_{1}^{-1} = \\mathbb{I}$:\n",
    "\\begin{equation*}\n",
    "\\mathrm{H}^{-1} = \\mathbb{I} - (\\mathbb{I} - \\mathrm{H}_{2}^{\\vphantom{1}})^{-1} \\mathrm{H}_{2}^{\\vphantom{1}}.\n",
    "\\end{equation*}\n"
   ]
  },
  {
   "cell_type": "markdown",
   "metadata": {},
   "source": [
    "\\begin{align*}\n",
    "\\mathrm{x} & = \\mathrm{H}^{-1} (\\mathrm{K}_{1}^{T} \\mathrm{y}_{1} + \\mathrm{K}_{2}^{T} \\mathrm{y}_{2}), \\\\\n",
    "\\mathrm{x} & = [\\mathrm{H}_{1}^{-1} - \\mathrm{H}_{1}^{-1} (\\mathbb{I} - \\mathrm{H}_{2}^{\\vphantom{1}}\\mathrm{H}_{1}^{-1})^{-1} \\mathrm{H}_{2}^{\\vphantom{1}}\\mathrm{H}_{1}^{-1}] (\\mathrm{K}_{1}^{T} \\mathrm{y}_{1} + \\mathrm{K}_{2}^{T} \\mathrm{y}_{2}), \\\\\n",
    "\\mathrm{x} & = \\mathrm{H}_{1}^{-1} \\mathrm{K}_{1}^{T} \\mathrm{y}_{1} - \\mathrm{H}_{1}^{-1} (\\mathbb{I} - \\mathrm{H}_{2}^{\\vphantom{1}}\\mathrm{H}_{1}^{-1})^{-1} \\mathrm{H}_{2}^{\\vphantom{1}}\\mathrm{H}_{1}^{-1} \\mathrm{K}_{1}^{T} \\mathrm{y}_{1} \\\\\n",
    "& + [\\mathrm{H}_{1}^{-1} - \\mathrm{H}_{1}^{-1} (\\mathbb{I} - \\mathrm{H}_{2}^{\\vphantom{1}}\\mathrm{H}_{1}^{-1})^{-1} \\mathrm{H}_{2}^{\\vphantom{1}}\\mathrm{H}_{1}^{-1}] \\mathrm{K}_{2}^{T} \\mathrm{y}_{2}, \\\\\n",
    "\\mathrm{x} & = \\mathrm{x}_{1} - \\mathrm{H}_{1}^{-1} (\\mathbb{I} - \\mathrm{H}_{2}^{\\vphantom{1}}\\mathrm{H}_{1}^{-1})^{-1} \\mathrm{H}_{2}^{\\vphantom{1}}\\mathrm{x}_{1} \\\\\n",
    "& + [\\mathrm{H}_{1}^{-1} - \\mathrm{H}_{1}^{-1} (\\mathbb{I} - \\mathrm{H}_{2}^{\\vphantom{1}}\\mathrm{H}_{1}^{-1})^{-1} \\mathrm{H}_{2}^{\\vphantom{1}}\\mathrm{H}_{1}^{-1}] \\mathrm{K}_{2}^{T} \\mathrm{y}_{2},\n",
    "\\end{align*}"
   ]
  },
  {
   "cell_type": "markdown",
   "metadata": {},
   "source": []
  }
 ],
 "metadata": {
  "kernelspec": {
   "display_name": "_cdk2.pyVenv_",
   "language": "python",
   "name": "python3"
  },
  "language_info": {
   "codemirror_mode": {
    "name": "ipython",
    "version": 3
   },
   "file_extension": ".py",
   "mimetype": "text/x-python",
   "name": "python",
   "nbconvert_exporter": "python",
   "pygments_lexer": "ipython3",
   "version": "3.9.13"
  }
 },
 "nbformat": 4,
 "nbformat_minor": 2
}
